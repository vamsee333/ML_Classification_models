{
 "cells": [
  {
   "cell_type": "code",
   "execution_count": 1,
   "metadata": {},
   "outputs": [],
   "source": [
    "import pandas as pd\n",
    "import seaborn as sns\n",
    "import numpy as np\n",
    "import matplotlib.pyplot as plt"
   ]
  },
  {
   "cell_type": "code",
   "execution_count": 2,
   "metadata": {},
   "outputs": [],
   "source": [
    "data = sns.load_dataset(\"iris\")"
   ]
  },
  {
   "cell_type": "code",
   "execution_count": 3,
   "metadata": {},
   "outputs": [],
   "source": [
    "features = data.drop(\"species\", axis=1)\n",
    "labels = data[\"species\"]"
   ]
  },
  {
   "cell_type": "code",
   "execution_count": 4,
   "metadata": {},
   "outputs": [],
   "source": [
    "from sklearn.model_selection import train_test_split\n",
    "from sklearn.model_selection import GridSearchCV\n",
    "from sklearn.ensemble import GradientBoostingClassifier\n",
    "import warnings\n",
    "warnings.filterwarnings(\"ignore\",category=FutureWarning)\n",
    "warnings.filterwarnings(\"ignore\", category=DeprecationWarning)"
   ]
  },
  {
   "cell_type": "code",
   "execution_count": 5,
   "metadata": {},
   "outputs": [],
   "source": [
    "X_train, X_test, Y_train, Y_test = train_test_split(features, labels, test_size=0.2, random_state= 42)"
   ]
  },
  {
   "cell_type": "code",
   "execution_count": 6,
   "metadata": {},
   "outputs": [
    {
     "data": {
      "text/plain": [
       "GridSearchCV(cv=5, estimator=GradientBoostingClassifier(),\n",
       "             param_grid={'learning_rate': [0.01, 0.1, 1, 10, 100],\n",
       "                         'max_depth': [1, 5, 7, 10],\n",
       "                         'n_estimators': [10, 20, 30, 50, 100]})"
      ]
     },
     "execution_count": 6,
     "metadata": {},
     "output_type": "execute_result"
    }
   ],
   "source": [
    "model = GradientBoostingClassifier()\n",
    "param={\n",
    "    \"learning_rate\":[0.01,0.1,1,10,100],\n",
    "    \"max_depth\":[1,5,7,10],\n",
    "    \"n_estimators\":[10,20,30,50,100]\n",
    "}\n",
    "\n",
    "cv = GridSearchCV(model, param, cv=5)\n",
    "cv.fit(X_train, Y_train)"
   ]
  },
  {
   "cell_type": "code",
   "execution_count": 7,
   "metadata": {},
   "outputs": [],
   "source": [
    "def print_results(cv):\n",
    "    print(\"the best parameters are {}\".format(cv.best_params_))\n",
    "    \n",
    "    mean = cv.cv_results_[\"mean_test_score\"]\n",
    "    \n",
    "    for mn, parms in zip(mean, cv.cv_results_[\"params\"]):\n",
    "        print(\"the mean for params {} is {}\".format(parms, mn))"
   ]
  },
  {
   "cell_type": "code",
   "execution_count": 8,
   "metadata": {},
   "outputs": [
    {
     "name": "stdout",
     "output_type": "stream",
     "text": [
      "the best parameters are {'learning_rate': 0.1, 'max_depth': 1, 'n_estimators': 30}\n",
      "the mean for params {'learning_rate': 0.01, 'max_depth': 1, 'n_estimators': 10} is 0.9083333333333334\n",
      "the mean for params {'learning_rate': 0.01, 'max_depth': 1, 'n_estimators': 20} is 0.9\n",
      "the mean for params {'learning_rate': 0.01, 'max_depth': 1, 'n_estimators': 30} is 0.9\n",
      "the mean for params {'learning_rate': 0.01, 'max_depth': 1, 'n_estimators': 50} is 0.9083333333333334\n",
      "the mean for params {'learning_rate': 0.01, 'max_depth': 1, 'n_estimators': 100} is 0.9166666666666666\n",
      "the mean for params {'learning_rate': 0.01, 'max_depth': 5, 'n_estimators': 10} is 0.95\n",
      "the mean for params {'learning_rate': 0.01, 'max_depth': 5, 'n_estimators': 20} is 0.95\n",
      "the mean for params {'learning_rate': 0.01, 'max_depth': 5, 'n_estimators': 30} is 0.95\n",
      "the mean for params {'learning_rate': 0.01, 'max_depth': 5, 'n_estimators': 50} is 0.9416666666666668\n",
      "the mean for params {'learning_rate': 0.01, 'max_depth': 5, 'n_estimators': 100} is 0.9416666666666668\n",
      "the mean for params {'learning_rate': 0.01, 'max_depth': 7, 'n_estimators': 10} is 0.9416666666666668\n",
      "the mean for params {'learning_rate': 0.01, 'max_depth': 7, 'n_estimators': 20} is 0.95\n",
      "the mean for params {'learning_rate': 0.01, 'max_depth': 7, 'n_estimators': 30} is 0.95\n",
      "the mean for params {'learning_rate': 0.01, 'max_depth': 7, 'n_estimators': 50} is 0.95\n",
      "the mean for params {'learning_rate': 0.01, 'max_depth': 7, 'n_estimators': 100} is 0.95\n",
      "the mean for params {'learning_rate': 0.01, 'max_depth': 10, 'n_estimators': 10} is 0.95\n",
      "the mean for params {'learning_rate': 0.01, 'max_depth': 10, 'n_estimators': 20} is 0.95\n",
      "the mean for params {'learning_rate': 0.01, 'max_depth': 10, 'n_estimators': 30} is 0.95\n",
      "the mean for params {'learning_rate': 0.01, 'max_depth': 10, 'n_estimators': 50} is 0.95\n",
      "the mean for params {'learning_rate': 0.01, 'max_depth': 10, 'n_estimators': 100} is 0.95\n",
      "the mean for params {'learning_rate': 0.1, 'max_depth': 1, 'n_estimators': 10} is 0.9333333333333333\n",
      "the mean for params {'learning_rate': 0.1, 'max_depth': 1, 'n_estimators': 20} is 0.9416666666666667\n",
      "the mean for params {'learning_rate': 0.1, 'max_depth': 1, 'n_estimators': 30} is 0.9583333333333334\n",
      "the mean for params {'learning_rate': 0.1, 'max_depth': 1, 'n_estimators': 50} is 0.95\n",
      "the mean for params {'learning_rate': 0.1, 'max_depth': 1, 'n_estimators': 100} is 0.9416666666666667\n",
      "the mean for params {'learning_rate': 0.1, 'max_depth': 5, 'n_estimators': 10} is 0.9416666666666668\n",
      "the mean for params {'learning_rate': 0.1, 'max_depth': 5, 'n_estimators': 20} is 0.9416666666666668\n",
      "the mean for params {'learning_rate': 0.1, 'max_depth': 5, 'n_estimators': 30} is 0.9416666666666668\n",
      "the mean for params {'learning_rate': 0.1, 'max_depth': 5, 'n_estimators': 50} is 0.9416666666666668\n",
      "the mean for params {'learning_rate': 0.1, 'max_depth': 5, 'n_estimators': 100} is 0.9416666666666668\n",
      "the mean for params {'learning_rate': 0.1, 'max_depth': 7, 'n_estimators': 10} is 0.95\n",
      "the mean for params {'learning_rate': 0.1, 'max_depth': 7, 'n_estimators': 20} is 0.95\n",
      "the mean for params {'learning_rate': 0.1, 'max_depth': 7, 'n_estimators': 30} is 0.95\n",
      "the mean for params {'learning_rate': 0.1, 'max_depth': 7, 'n_estimators': 50} is 0.95\n",
      "the mean for params {'learning_rate': 0.1, 'max_depth': 7, 'n_estimators': 100} is 0.95\n",
      "the mean for params {'learning_rate': 0.1, 'max_depth': 10, 'n_estimators': 10} is 0.95\n",
      "the mean for params {'learning_rate': 0.1, 'max_depth': 10, 'n_estimators': 20} is 0.95\n",
      "the mean for params {'learning_rate': 0.1, 'max_depth': 10, 'n_estimators': 30} is 0.95\n",
      "the mean for params {'learning_rate': 0.1, 'max_depth': 10, 'n_estimators': 50} is 0.95\n",
      "the mean for params {'learning_rate': 0.1, 'max_depth': 10, 'n_estimators': 100} is 0.95\n",
      "the mean for params {'learning_rate': 1, 'max_depth': 1, 'n_estimators': 10} is 0.925\n",
      "the mean for params {'learning_rate': 1, 'max_depth': 1, 'n_estimators': 20} is 0.925\n",
      "the mean for params {'learning_rate': 1, 'max_depth': 1, 'n_estimators': 30} is 0.925\n",
      "the mean for params {'learning_rate': 1, 'max_depth': 1, 'n_estimators': 50} is 0.9083333333333334\n",
      "the mean for params {'learning_rate': 1, 'max_depth': 1, 'n_estimators': 100} is 0.9083333333333334\n",
      "the mean for params {'learning_rate': 1, 'max_depth': 5, 'n_estimators': 10} is 0.9416666666666668\n",
      "the mean for params {'learning_rate': 1, 'max_depth': 5, 'n_estimators': 20} is 0.9416666666666668\n",
      "the mean for params {'learning_rate': 1, 'max_depth': 5, 'n_estimators': 30} is 0.9416666666666668\n",
      "the mean for params {'learning_rate': 1, 'max_depth': 5, 'n_estimators': 50} is 0.9416666666666668\n",
      "the mean for params {'learning_rate': 1, 'max_depth': 5, 'n_estimators': 100} is 0.9416666666666668\n",
      "the mean for params {'learning_rate': 1, 'max_depth': 7, 'n_estimators': 10} is 0.95\n",
      "the mean for params {'learning_rate': 1, 'max_depth': 7, 'n_estimators': 20} is 0.95\n",
      "the mean for params {'learning_rate': 1, 'max_depth': 7, 'n_estimators': 30} is 0.95\n",
      "the mean for params {'learning_rate': 1, 'max_depth': 7, 'n_estimators': 50} is 0.95\n",
      "the mean for params {'learning_rate': 1, 'max_depth': 7, 'n_estimators': 100} is 0.95\n",
      "the mean for params {'learning_rate': 1, 'max_depth': 10, 'n_estimators': 10} is 0.95\n",
      "the mean for params {'learning_rate': 1, 'max_depth': 10, 'n_estimators': 20} is 0.95\n",
      "the mean for params {'learning_rate': 1, 'max_depth': 10, 'n_estimators': 30} is 0.95\n",
      "the mean for params {'learning_rate': 1, 'max_depth': 10, 'n_estimators': 50} is 0.95\n",
      "the mean for params {'learning_rate': 1, 'max_depth': 10, 'n_estimators': 100} is 0.95\n",
      "the mean for params {'learning_rate': 10, 'max_depth': 1, 'n_estimators': 10} is 0.4333333333333333\n",
      "the mean for params {'learning_rate': 10, 'max_depth': 1, 'n_estimators': 20} is 0.4333333333333333\n",
      "the mean for params {'learning_rate': 10, 'max_depth': 1, 'n_estimators': 30} is 0.4333333333333333\n",
      "the mean for params {'learning_rate': 10, 'max_depth': 1, 'n_estimators': 50} is 0.4333333333333333\n",
      "the mean for params {'learning_rate': 10, 'max_depth': 1, 'n_estimators': 100} is 0.4333333333333333\n",
      "the mean for params {'learning_rate': 10, 'max_depth': 5, 'n_estimators': 10} is 0.9416666666666668\n",
      "the mean for params {'learning_rate': 10, 'max_depth': 5, 'n_estimators': 20} is 0.9416666666666668\n",
      "the mean for params {'learning_rate': 10, 'max_depth': 5, 'n_estimators': 30} is 0.95\n",
      "the mean for params {'learning_rate': 10, 'max_depth': 5, 'n_estimators': 50} is 0.9416666666666668\n",
      "the mean for params {'learning_rate': 10, 'max_depth': 5, 'n_estimators': 100} is 0.9416666666666668\n",
      "the mean for params {'learning_rate': 10, 'max_depth': 7, 'n_estimators': 10} is 0.95\n",
      "the mean for params {'learning_rate': 10, 'max_depth': 7, 'n_estimators': 20} is 0.95\n",
      "the mean for params {'learning_rate': 10, 'max_depth': 7, 'n_estimators': 30} is 0.95\n",
      "the mean for params {'learning_rate': 10, 'max_depth': 7, 'n_estimators': 50} is 0.95\n",
      "the mean for params {'learning_rate': 10, 'max_depth': 7, 'n_estimators': 100} is 0.95\n",
      "the mean for params {'learning_rate': 10, 'max_depth': 10, 'n_estimators': 10} is 0.95\n",
      "the mean for params {'learning_rate': 10, 'max_depth': 10, 'n_estimators': 20} is 0.95\n",
      "the mean for params {'learning_rate': 10, 'max_depth': 10, 'n_estimators': 30} is 0.95\n",
      "the mean for params {'learning_rate': 10, 'max_depth': 10, 'n_estimators': 50} is 0.95\n",
      "the mean for params {'learning_rate': 10, 'max_depth': 10, 'n_estimators': 100} is 0.95\n",
      "the mean for params {'learning_rate': 100, 'max_depth': 1, 'n_estimators': 10} is 0.4333333333333333\n",
      "the mean for params {'learning_rate': 100, 'max_depth': 1, 'n_estimators': 20} is 0.4333333333333333\n",
      "the mean for params {'learning_rate': 100, 'max_depth': 1, 'n_estimators': 30} is 0.4333333333333333\n",
      "the mean for params {'learning_rate': 100, 'max_depth': 1, 'n_estimators': 50} is 0.4333333333333333\n",
      "the mean for params {'learning_rate': 100, 'max_depth': 1, 'n_estimators': 100} is 0.4333333333333333\n",
      "the mean for params {'learning_rate': 100, 'max_depth': 5, 'n_estimators': 10} is 0.9416666666666668\n",
      "the mean for params {'learning_rate': 100, 'max_depth': 5, 'n_estimators': 20} is 0.9416666666666668\n",
      "the mean for params {'learning_rate': 100, 'max_depth': 5, 'n_estimators': 30} is 0.9416666666666668\n",
      "the mean for params {'learning_rate': 100, 'max_depth': 5, 'n_estimators': 50} is 0.9416666666666668\n",
      "the mean for params {'learning_rate': 100, 'max_depth': 5, 'n_estimators': 100} is 0.9416666666666668\n",
      "the mean for params {'learning_rate': 100, 'max_depth': 7, 'n_estimators': 10} is 0.95\n",
      "the mean for params {'learning_rate': 100, 'max_depth': 7, 'n_estimators': 20} is 0.95\n",
      "the mean for params {'learning_rate': 100, 'max_depth': 7, 'n_estimators': 30} is 0.95\n",
      "the mean for params {'learning_rate': 100, 'max_depth': 7, 'n_estimators': 50} is 0.95\n",
      "the mean for params {'learning_rate': 100, 'max_depth': 7, 'n_estimators': 100} is 0.95\n",
      "the mean for params {'learning_rate': 100, 'max_depth': 10, 'n_estimators': 10} is 0.95\n",
      "the mean for params {'learning_rate': 100, 'max_depth': 10, 'n_estimators': 20} is 0.95\n",
      "the mean for params {'learning_rate': 100, 'max_depth': 10, 'n_estimators': 30} is 0.95\n",
      "the mean for params {'learning_rate': 100, 'max_depth': 10, 'n_estimators': 50} is 0.9416666666666668\n",
      "the mean for params {'learning_rate': 100, 'max_depth': 10, 'n_estimators': 100} is 0.9416666666666668\n"
     ]
    }
   ],
   "source": [
    "print_results(cv)"
   ]
  },
  {
   "cell_type": "code",
   "execution_count": null,
   "metadata": {},
   "outputs": [],
   "source": []
  }
 ],
 "metadata": {
  "kernelspec": {
   "display_name": "Python 3",
   "language": "python",
   "name": "python3"
  },
  "language_info": {
   "codemirror_mode": {
    "name": "ipython",
    "version": 3
   },
   "file_extension": ".py",
   "mimetype": "text/x-python",
   "name": "python",
   "nbconvert_exporter": "python",
   "pygments_lexer": "ipython3",
   "version": "3.8.5"
  }
 },
 "nbformat": 4,
 "nbformat_minor": 4
}
